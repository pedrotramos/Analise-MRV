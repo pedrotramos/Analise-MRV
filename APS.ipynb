{
 "cells": [
  {
   "cell_type": "code",
   "execution_count": 1,
   "metadata": {},
   "outputs": [],
   "source": [
    "import pandas as pd\n",
    "import matplotlib.pyplot as plt\n",
    "\n",
    "excel_file = pd.ExcelFile(\"DFs-MRV-Limpo.xlsx\", engine=\"openpyxl\")\n",
    "\n",
    "BP = pd.read_excel(excel_file, \"BP\")\n",
    "DFC = pd.read_excel(excel_file, \"DFC\")\n",
    "DRE = pd.read_excel(excel_file, \"DRE\")"
   ]
  },
  {
   "cell_type": "code",
   "execution_count": 2,
   "metadata": {},
   "outputs": [
    {
     "data": {
      "text/html": [
       "<div>\n",
       "<style scoped>\n",
       "    .dataframe tbody tr th:only-of-type {\n",
       "        vertical-align: middle;\n",
       "    }\n",
       "\n",
       "    .dataframe tbody tr th {\n",
       "        vertical-align: top;\n",
       "    }\n",
       "\n",
       "    .dataframe thead th {\n",
       "        text-align: right;\n",
       "    }\n",
       "</style>\n",
       "<table border=\"1\" class=\"dataframe\">\n",
       "  <thead>\n",
       "    <tr style=\"text-align: right;\">\n",
       "      <th></th>\n",
       "      <th>MRV ON (R$ em milhares)</th>\n",
       "      <th>2016</th>\n",
       "      <th>2017</th>\n",
       "      <th>2018</th>\n",
       "      <th>2019</th>\n",
       "      <th>2020</th>\n",
       "    </tr>\n",
       "  </thead>\n",
       "  <tbody>\n",
       "    <tr>\n",
       "      <th>0</th>\n",
       "      <td>Ativo Total</td>\n",
       "      <td>12327013</td>\n",
       "      <td>14558500</td>\n",
       "      <td>13636891</td>\n",
       "      <td>14686323</td>\n",
       "      <td>18062015</td>\n",
       "    </tr>\n",
       "    <tr>\n",
       "      <th>1</th>\n",
       "      <td>Ativo Circulante</td>\n",
       "      <td>7120084</td>\n",
       "      <td>8315552</td>\n",
       "      <td>7861258</td>\n",
       "      <td>7801154</td>\n",
       "      <td>8564095</td>\n",
       "    </tr>\n",
       "    <tr>\n",
       "      <th>2</th>\n",
       "      <td>Caixa e Equivalentes</td>\n",
       "      <td>1763552</td>\n",
       "      <td>713123</td>\n",
       "      <td>794852</td>\n",
       "      <td>674919</td>\n",
       "      <td>1080705</td>\n",
       "    </tr>\n",
       "  </tbody>\n",
       "</table>\n",
       "</div>"
      ],
      "text/plain": [
       "  MRV ON (R$ em milhares)      2016      2017      2018      2019      2020\n",
       "0             Ativo Total  12327013  14558500  13636891  14686323  18062015\n",
       "1        Ativo Circulante   7120084   8315552   7861258   7801154   8564095\n",
       "2    Caixa e Equivalentes   1763552    713123    794852    674919   1080705"
      ]
     },
     "execution_count": 2,
     "metadata": {},
     "output_type": "execute_result"
    }
   ],
   "source": [
    "BP.dropna(how='all', axis='columns', inplace=True)\n",
    "BP.head(3)"
   ]
  },
  {
   "cell_type": "code",
   "execution_count": 3,
   "metadata": {},
   "outputs": [
    {
     "data": {
      "text/html": [
       "<div>\n",
       "<style scoped>\n",
       "    .dataframe tbody tr th:only-of-type {\n",
       "        vertical-align: middle;\n",
       "    }\n",
       "\n",
       "    .dataframe tbody tr th {\n",
       "        vertical-align: top;\n",
       "    }\n",
       "\n",
       "    .dataframe thead th {\n",
       "        text-align: right;\n",
       "    }\n",
       "</style>\n",
       "<table border=\"1\" class=\"dataframe\">\n",
       "  <thead>\n",
       "    <tr style=\"text-align: right;\">\n",
       "      <th></th>\n",
       "      <th>MRV ON (R$ em milhares)</th>\n",
       "      <th>2017</th>\n",
       "      <th>2018</th>\n",
       "      <th>2019</th>\n",
       "      <th>2020</th>\n",
       "    </tr>\n",
       "  </thead>\n",
       "  <tbody>\n",
       "    <tr>\n",
       "      <th>0</th>\n",
       "      <td>(+) Caixa Gerado por Operações</td>\n",
       "      <td>332400</td>\n",
       "      <td>625606</td>\n",
       "      <td>-98245</td>\n",
       "      <td>689934</td>\n",
       "    </tr>\n",
       "    <tr>\n",
       "      <th>1</th>\n",
       "      <td>Caixa Gerado nas Operações</td>\n",
       "      <td>1053428</td>\n",
       "      <td>1275794</td>\n",
       "      <td>1282107</td>\n",
       "      <td>1237169</td>\n",
       "    </tr>\n",
       "    <tr>\n",
       "      <th>2</th>\n",
       "      <td>Lucro Líquido</td>\n",
       "      <td>700024</td>\n",
       "      <td>758137</td>\n",
       "      <td>747876</td>\n",
       "      <td>620992</td>\n",
       "    </tr>\n",
       "  </tbody>\n",
       "</table>\n",
       "</div>"
      ],
      "text/plain": [
       "          MRV ON (R$ em milhares)     2017     2018     2019     2020\n",
       "0  (+) Caixa Gerado por Operações   332400   625606   -98245   689934\n",
       "1      Caixa Gerado nas Operações  1053428  1275794  1282107  1237169\n",
       "2                   Lucro Líquido   700024   758137   747876   620992"
      ]
     },
     "execution_count": 3,
     "metadata": {},
     "output_type": "execute_result"
    }
   ],
   "source": [
    "DFC.dropna(how='all', axis='columns', inplace=True)\n",
    "DFC.head(3)"
   ]
  },
  {
   "cell_type": "code",
   "execution_count": 4,
   "metadata": {},
   "outputs": [
    {
     "data": {
      "text/html": [
       "<div>\n",
       "<style scoped>\n",
       "    .dataframe tbody tr th:only-of-type {\n",
       "        vertical-align: middle;\n",
       "    }\n",
       "\n",
       "    .dataframe tbody tr th {\n",
       "        vertical-align: top;\n",
       "    }\n",
       "\n",
       "    .dataframe thead th {\n",
       "        text-align: right;\n",
       "    }\n",
       "</style>\n",
       "<table border=\"1\" class=\"dataframe\">\n",
       "  <thead>\n",
       "    <tr style=\"text-align: right;\">\n",
       "      <th></th>\n",
       "      <th>MRV ON (R$ em milhares)</th>\n",
       "      <th>2017</th>\n",
       "      <th>2018</th>\n",
       "      <th>2019</th>\n",
       "      <th>2020</th>\n",
       "    </tr>\n",
       "  </thead>\n",
       "  <tbody>\n",
       "    <tr>\n",
       "      <th>0</th>\n",
       "      <td>(+) Receita Líquida Operacional</td>\n",
       "      <td>4759888</td>\n",
       "      <td>5418995</td>\n",
       "      <td>6055722</td>\n",
       "      <td>6646359</td>\n",
       "    </tr>\n",
       "    <tr>\n",
       "      <th>1</th>\n",
       "      <td>(-) Custo dos Produtos Vendidos</td>\n",
       "      <td>3147749</td>\n",
       "      <td>3620489</td>\n",
       "      <td>4213455</td>\n",
       "      <td>4772021</td>\n",
       "    </tr>\n",
       "    <tr>\n",
       "      <th>2</th>\n",
       "      <td>(=) Lucro Bruto</td>\n",
       "      <td>1612139</td>\n",
       "      <td>1798506</td>\n",
       "      <td>1842267</td>\n",
       "      <td>1874338</td>\n",
       "    </tr>\n",
       "  </tbody>\n",
       "</table>\n",
       "</div>"
      ],
      "text/plain": [
       "           MRV ON (R$ em milhares)     2017     2018     2019     2020\n",
       "0  (+) Receita Líquida Operacional  4759888  5418995  6055722  6646359\n",
       "1  (-) Custo dos Produtos Vendidos  3147749  3620489  4213455  4772021\n",
       "2                  (=) Lucro Bruto  1612139  1798506  1842267  1874338"
      ]
     },
     "execution_count": 4,
     "metadata": {},
     "output_type": "execute_result"
    }
   ],
   "source": [
    "DRE.dropna(how='all', axis='columns', inplace=True)\n",
    "DRE.head(3)"
   ]
  },
  {
   "cell_type": "code",
   "execution_count": 5,
   "metadata": {},
   "outputs": [],
   "source": [
    "def getValue(df, nome_coluna_principal, ano, coluna_principal=\"MRV ON (R$ em milhares)\"):\n",
    "    return df[df[coluna_principal] == nome_coluna_principal][ano].values[0]"
   ]
  },
  {
   "cell_type": "code",
   "execution_count": 6,
   "metadata": {},
   "outputs": [
    {
     "data": {
      "text/plain": [
       "13636891"
      ]
     },
     "execution_count": 6,
     "metadata": {},
     "output_type": "execute_result"
    }
   ],
   "source": [
    "getValue(BP, 'Ativo Total', 2018)"
   ]
  },
  {
   "cell_type": "code",
   "execution_count": 7,
   "metadata": {},
   "outputs": [
    {
     "data": {
      "text/plain": [
       "1842267"
      ]
     },
     "execution_count": 7,
     "metadata": {},
     "output_type": "execute_result"
    }
   ],
   "source": [
    "getValue(DRE, '(=) Lucro Bruto', 2019)"
   ]
  },
  {
   "cell_type": "code",
   "execution_count": 8,
   "metadata": {},
   "outputs": [
    {
     "data": {
      "text/plain": [
       "758137"
      ]
     },
     "execution_count": 8,
     "metadata": {},
     "output_type": "execute_result"
    }
   ],
   "source": [
    "getValue(DFC, 'Lucro Líquido', 2018)"
   ]
  },
  {
   "cell_type": "markdown",
   "metadata": {},
   "source": [
    "<img src=\"indices.jpg\" alt=\"indices\" style=\"width: 500px;\"/>\n",
    "\n",
    "Essa fórmula de liquidez imediata é a fórmula da liquidez seca... Verificar com o professor "
   ]
  },
  {
   "cell_type": "code",
   "execution_count": 9,
   "metadata": {},
   "outputs": [
    {
     "name": "stdout",
     "output_type": "stream",
     "text": [
      "2016\n",
      "\t Liquidez Corrente: 2.4347503162231448\n",
      "\t Liquidez Seca:     1.3826448804678222\n",
      "\t Índice de Caixa:   0.6030559175532142\n",
      "2017\n",
      "\t Liquidez Corrente: 2.5586471301361855\n",
      "\t Liquidez Seca:     1.5168662576385086\n",
      "\t Índice de Caixa:   0.21942381183884208\n",
      "2018\n",
      "\t Liquidez Corrente: 2.9763366099347546\n",
      "\t Liquidez Seca:     1.5556847450812172\n",
      "\t Índice de Caixa:   0.3009374717227013\n",
      "2019\n",
      "\t Liquidez Corrente: 2.780055977768544\n",
      "\t Liquidez Seca:     1.3689426017617246\n",
      "\t Índice de Caixa:   0.24051731326667414\n",
      "2020\n",
      "\t Liquidez Corrente: 2.368513555745462\n",
      "\t Liquidez Seca:     1.3338137236193273\n",
      "\t Índice de Caixa:   0.2988832377807462\n"
     ]
    },
    {
     "data": {
      "image/png": "[encoded data removed]",
      "text/plain": [
       "<Figure size 432x288 with 1 Axes>"
      ]
     },
     "metadata": {
      "needs_background": "light"
     },
     "output_type": "display_data"
    }
   ],
   "source": [
    "# Indicadores de solvência de curto prazo:\n",
    "years = [2016, 2017, 2018, 2019, 2020]\n",
    "\n",
    "liquidezCorrente = []\n",
    "liquidezSeca = []\n",
    "indiceDeCaixa = []\n",
    "\n",
    "for i in years:\n",
    "    ativoCirculante = getValue(BP, 'Ativo Circulante', i)\n",
    "    passivoCirculante = getValue(BP, 'Passivo Circulante', i)\n",
    "    estoques = getValue(BP, 'Estoques', i)\n",
    "    caixa = getValue(BP, 'Caixa e Equivalentes', i)\n",
    "    \n",
    "    liquidezCorrente_ = ativoCirculante/passivoCirculante\n",
    "    liquidezSeca_ = (ativoCirculante - estoques)/passivoCirculante\n",
    "    indiceDeCaixa_ = caixa/passivoCirculante\n",
    "    \n",
    "    liquidezCorrente.append(liquidezCorrente_)\n",
    "    liquidezSeca.append(liquidezSeca_)\n",
    "    indiceDeCaixa.append(indiceDeCaixa_)\n",
    "    \n",
    "for i in range(len(years)):\n",
    "    print(years[i])\n",
    "    print(f\"\\t Liquidez Corrente: {liquidezCorrente[i]}\")\n",
    "    print(f\"\\t Liquidez Seca:     {liquidezSeca[i]}\")\n",
    "    print(f\"\\t Índice de Caixa:   {indiceDeCaixa[i]}\")\n",
    "    \n",
    "plt.plot(years, liquidezCorrente, 'o--', label=\"Liquidez Corrente\")\n",
    "plt.plot(years, liquidezSeca, 'o--', label=\"Liquidez Seca\")\n",
    "plt.plot(years, indiceDeCaixa, 'o--', label=\"Índice de Caixa\")\n",
    "plt.xticks(years)\n",
    "plt.title(\"Indicadores de Solvência de Curto Prazo\")\n",
    "plt.legend()\n",
    "plt.show()"
   ]
  },
  {
   "cell_type": "code",
   "execution_count": 10,
   "metadata": {},
   "outputs": [
    {
     "name": "stdout",
     "output_type": "stream",
     "text": [
      "2017\n",
      "\t Endividamento Total:                 0.6018050623347185\n",
      "\t Multiplicador do Patrimônio Líquido: 2.5113327805301977\n",
      "\t Cobertura de Juros:                  [[...], [...], [...], [...]]\n",
      "2018\n",
      "\t Endividamento Total:                 0.6425441840079238\n",
      "\t Multiplicador do Patrimônio Líquido: 2.7975485507897493\n",
      "\t Cobertura de Juros:                  [[...], [...], [...], [...]]\n",
      "2019\n",
      "\t Endividamento Total:                 0.6521396812530952\n",
      "\t Multiplicador do Patrimônio Líquido: 2.8747170807015126\n",
      "\t Cobertura de Juros:                  [[...], [...], [...], [...]]\n",
      "2020\n",
      "\t Endividamento Total:                 0.6658963576323018\n",
      "\t Multiplicador do Patrimônio Líquido: 2.993083202904591\n",
      "\t Cobertura de Juros:                  [[...], [...], [...], [...]]\n"
     ]
    }
   ],
   "source": [
    "# Indicadores de solvência de longo prazo:\n",
    "years = [2017, 2018, 2019, 2020]\n",
    "\n",
    "endividamentoTotal = []\n",
    "dividaPorCapitalProprio = []\n",
    "multPatrimonioLiq = []\n",
    "coberturaJuros = []\n",
    "coberturaCaixa = []\n",
    "\n",
    "for i in years:\n",
    "    ativoTotal = getValue(BP, 'Ativo Total', i)\n",
    "    patrimonioLiquido = getValue(BP, 'Patrimônio Líquido Consolidado', i)\n",
    "    # dividaTotal = getValue(BP, '???', i)\n",
    "    lajir = getValue(DRE, '(=) LAJIR', i)\n",
    "    # lajida = ??? cade a depreciacao  \n",
    "    juros = getValue(DRE, '(-) Despesas Financeiras', i)\n",
    "    \n",
    "    endividamentoTotal_ = (ativoTotal - patrimonioLiquido)/ativoTotal\n",
    "    # dividaPorCapitalProprio_ = dividaTotal/patrimonioLiquido\n",
    "    multPatrimonioLiq_ = ativoTotal/patrimonioLiquido\n",
    "    coberturaJuros_ = lajir/juros\n",
    "    # coberturaCaixa_ = lajida/juros\n",
    "    \n",
    "    endividamentoTotal.append(endividamentoTotal_)\n",
    "    # dividaPorCapitalProprio.append(dividaPorCapitalProprio_)\n",
    "    multPatrimonioLiq.append(multPatrimonioLiq_)\n",
    "    coberturaJuros.append(coberturaJuros)\n",
    "    # coberturaCaixa.append(coberturaCaixa_)\n",
    "    \n",
    "for i in range(len(years)):\n",
    "    print(years[i])\n",
    "    print(f\"\\t Endividamento Total:                 {endividamentoTotal[i]}\")\n",
    "    # print(f\"\\t Dívida/Capital Próprio:              {dividaPorCapitalProprio[i]}\")\n",
    "    print(f\"\\t Multiplicador do Patrimônio Líquido: {multPatrimonioLiq[i]}\")\n",
    "    print(f\"\\t Cobertura de Juros:                  {coberturaJuros[i]}\")\n",
    "    # print(f\"\\t Cobertura de Caixa:                  {coberturaCaixa[i]}\")\n",
    "\n",
    "# plotar graficos\n",
    "# plt.plot(years, liquidezCorrente, 'o--', label=\"Liquidez Corrente\")\n",
    "# plt.xticks(years)\n",
    "# plt.title(\"Indicadores de Solvência de Curto Prazo\")\n",
    "# plt.legend()\n",
    "# plt.show()"
   ]
  },
  {
   "cell_type": "code",
   "execution_count": 11,
   "metadata": {},
   "outputs": [
    {
     "name": "stdout",
     "output_type": "stream",
     "text": [
      "2017\n",
      "\t Giro do Estoque:            0.9297004194322882\n",
      "\t Prazo Médio de Estocagem:   392.59958624401116\n",
      "\t Giro de Contas a Receber:   2.986034315109313\n",
      "\t Prazo Médio de Recebimento: 122.23570176441126\n",
      "\t Giro do Ativo Total:        0.32694906755503655\n",
      "2018\n",
      "\t Giro do Estoque:            0.9648716880655364\n",
      "\t Prazo Médio de Estocagem:   378.28864139623124\n",
      "\t Giro de Contas a Receber:   3.7176752673860993\n",
      "\t Prazo Médio de Recebimento: 98.17963478467871\n",
      "\t Giro do Ativo Total:        0.397377598750331\n",
      "2019\n",
      "\t Giro do Estoque:            1.0640723076864798\n",
      "\t Prazo Médio de Estocagem:   343.0218015856346\n",
      "\t Giro de Contas a Receber:   3.8907844698145175\n",
      "\t Prazo Médio de Recebimento: 93.81141588071578\n",
      "\t Giro do Ativo Total:        0.4123375197454121\n",
      "2020\n",
      "\t Giro do Estoque:            1.2755055892665554\n",
      "\t Prazo Médio de Estocagem:   286.1610353349241\n",
      "\t Giro de Contas a Receber:   3.604664116167396\n",
      "\t Prazo Médio de Recebimento: 101.25770064481921\n",
      "\t Giro do Ativo Total:        0.36797439266881354\n"
     ]
    }
   ],
   "source": [
    "# Indicadores de gestão de ativos ou de giro:\n",
    "years = [2017, 2018, 2019, 2020]\n",
    "\n",
    "giroEstoque = []\n",
    "PME = []\n",
    "giroContasAReceber = []\n",
    "PMR = []\n",
    "giroAtivoTotal = []\n",
    "\n",
    "for i in years:\n",
    "    CMV = getValue(DRE, '(-) Custo dos Produtos Vendidos', i)\n",
    "    estoque = getValue(BP, 'Estoques', i)\n",
    "    \n",
    "    giroEstoque_ = CMV/estoque\n",
    "    PME_ = 365/giroEstoque_\n",
    "    \n",
    "    vendas = getValue(DRE, '(+) Receita Líquida Operacional', i)\n",
    "    contasAReceber = getValue(BP, 'Contas a Receber', i)\n",
    "    giroContasAReceber_ = vendas/contasAReceber\n",
    "    \n",
    "    PMR_ = 365/giroContasAReceber_\n",
    "    \n",
    "    ativoTotal = getValue(BP, 'Ativo Total', i)\n",
    "    giroAtivoTotal_ = vendas/ativoTotal\n",
    "    \n",
    "    giroEstoque.append(giroEstoque_)\n",
    "    PME.append(PME_)\n",
    "    giroContasAReceber.append(giroContasAReceber_)\n",
    "    PMR.append(PMR_)\n",
    "    giroAtivoTotal.append(giroAtivoTotal_)\n",
    "    \n",
    "for i in range(len(years)):\n",
    "    print(years[i])\n",
    "    print(f\"\\t Giro do Estoque:            {giroEstoque[i]}\")\n",
    "    print(f\"\\t Prazo Médio de Estocagem:   {PME[i]}\")\n",
    "    print(f\"\\t Giro de Contas a Receber:   {giroContasAReceber[i]}\")\n",
    "    print(f\"\\t Prazo Médio de Recebimento: {PMR[i]}\")\n",
    "    print(f\"\\t Giro do Ativo Total:        {giroAtivoTotal[i]}\")\n",
    "\n",
    "# plotar graficos\n",
    "# plt.plot(years, liquidezCorrente, 'o--', label=\"Liquidez Corrente\")\n",
    "# plt.xticks(years)\n",
    "# plt.title(\"Indicadores de Solvência de Curto Prazo\")\n",
    "# plt.legend()\n",
    "# plt.show()"
   ]
  },
  {
   "cell_type": "code",
   "execution_count": 12,
   "metadata": {},
   "outputs": [
    {
     "name": "stdout",
     "output_type": "stream",
     "text": [
      "2017\n",
      "\t Mergem Bruta:                       0.3386926331039722\n",
      "\t Margem Líquida:                     0.147067325953888\n",
      "\t Retorno sobre o Ativo:              0.04808352508843631\n",
      "\t Retorno sobre o Patrimônio Líquido: 0.32694906755503655\n",
      "2018\n",
      "\t Mergem Bruta:                       0.33188921562023954\n",
      "\t Margem Líquida:                     0.13990361681455693\n",
      "\t Retorno sobre o Ativo:              0.05559456330625507\n",
      "\t Retorno sobre o Patrimônio Líquido: 0.397377598750331\n",
      "2019\n",
      "\t Mergem Bruta:                       0.30421921613971054\n",
      "\t Margem Líquida:                     0.12349906419085949\n",
      "\t Retorno sobre o Ativo:              0.050923297819338444\n",
      "\t Retorno sobre o Patrimônio Líquido: 0.4123375197454121\n",
      "2020\n",
      "\t Mergem Bruta:                       0.28200974398162965\n",
      "\t Margem Líquida:                     0.09343341218853811\n",
      "\t Retorno sobre o Ativo:              0.034381103105052234\n",
      "\t Retorno sobre o Patrimônio Líquido: 0.36797439266881354\n"
     ]
    }
   ],
   "source": [
    "# Indicadores de lucratividade:\n",
    "years = [2017, 2018, 2019, 2020]\n",
    "\n",
    "margemBruta = []\n",
    "margemLAJIDA = []\n",
    "margemLiquida = []\n",
    "ROA = []\n",
    "ROE = []\n",
    "\n",
    "for i in years:\n",
    "    \n",
    "    vendas = getValue(DRE, '(+) Receita Líquida Operacional', i)\n",
    "    lucroBruto = getValue(DRE, '(=) Lucro Bruto', i)\n",
    "    \n",
    "    margemBruta_ = lucroBruto/vendas\n",
    "    \n",
    "    # lajida ...\n",
    "    \n",
    "    # margemLAJIDA_ = lajida/vendas\n",
    "    \n",
    "    lucroLiquido = getValue(DRE, '(=) Lucro Líquido', i)\n",
    "    \n",
    "    margemLiquida_ = lucroLiquido/vendas\n",
    "    \n",
    "    ativoTotal = getValue(BP, 'Ativo Total', i)\n",
    "    ROA_ = lucroLiquido/ativoTotal\n",
    "    \n",
    "    patrimonioLiquido = getValue(BP, 'Patrimônio Líquido Consolidado', i)\n",
    "    ROE_ = lucroLiquido/patrimonioLiquido\n",
    "    \n",
    "    margemBruta.append(margemBruta_)\n",
    "    # margemLAJIDA.append(margemLAJIDA_)\n",
    "    margemLiquida.append(margemLiquida_)\n",
    "    ROA.append(ROA_)\n",
    "    ROE.append(ROE_)\n",
    "    \n",
    "for i in range(len(years)):\n",
    "    print(years[i])\n",
    "    print(f\"\\t Mergem Bruta:                       {margemBruta[i]}\")\n",
    "    # print(f\"\\t Margem LAJIDA:                      {margemLAJIDA[i]}\")\n",
    "    print(f\"\\t Margem Líquida:                     {margemLiquida[i]}\")\n",
    "    print(f\"\\t Retorno sobre o Ativo:              {ROA[i]}\")\n",
    "    print(f\"\\t Retorno sobre o Patrimônio Líquido: {giroAtivoTotal[i]}\")\n",
    "\n",
    "# plotar graficos\n",
    "# plt.plot(years, liquidezCorrente, 'o--', label=\"Liquidez Corrente\")\n",
    "# plt.xticks(years)\n",
    "# plt.title(\"Indicadores de Solvência de Curto Prazo\")\n",
    "# plt.legend()\n",
    "# plt.show()"
   ]
  },
  {
   "cell_type": "code",
   "execution_count": 13,
   "metadata": {},
   "outputs": [],
   "source": [
    "# Medidas de Valor de Mercado:\n",
    "# years = [2017, 2018, 2019, 2020]\n",
    "\n",
    "# precoLucro = []\n",
    "# mercadoContabil = []\n",
    "\n",
    "# for i in years:\n",
    "    \n",
    "#     precoPorAcao = ??\n",
    "#     lucroPorAcao = ??\n",
    "#     precoLucro_ = precoPorAcao/lucroPorAcao\n",
    "    \n",
    "#     valorMercadoPorAcao = ??\n",
    "#     valorContabilPorAcao = ??\n",
    "#     mercadoContabil_ = valorMercadoPorAcao/valorContabilPorAcao\n",
    "    \n",
    "#     precoLucro.append(precoLucro_)\n",
    "#     mercadoContabil.append(mercadoContabil_)\n",
    "    \n",
    "# for i in range(len(years)):\n",
    "#     print(years[i])\n",
    "#     print(f\"\\t Índice preço/lucro:                     {precoLucro[i]}\")\n",
    "#     print(f\"\\t Índice Valor de Mercado/Valor Contábil: {margemLAJIDA[i]}\")\n",
    "\n",
    "# plotar graficos\n",
    "# plt.plot(years, liquidezCorrente, 'o--', label=\"Liquidez Corrente\")\n",
    "# plt.xticks(years)\n",
    "# plt.title(\"Indicadores de Solvência de Curto Prazo\")\n",
    "# plt.legend()\n",
    "# plt.show()"
   ]
  }
 ],
 "metadata": {
  "kernelspec": {
   "display_name": "Python 3",
   "language": "python",
   "name": "python3"
  },
  "language_info": {
   "codemirror_mode": {
    "name": "ipython",
    "version": 3
   },
   "file_extension": ".py",
   "mimetype": "text/x-python",
   "name": "python",
   "nbconvert_exporter": "python",
   "pygments_lexer": "ipython3",
   "version": "3.8.7"
  }
 },
 "nbformat": 4,
 "nbformat_minor": 4
}
