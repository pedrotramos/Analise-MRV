{
 "cells": [
  {
   "cell_type": "markdown",
   "metadata": {},
   "source": [
    "# Precisa conferir as contas, não estão batendo (Fluxo de caixa)"
   ]
  },
  {
   "cell_type": "markdown",
   "metadata": {},
   "source": [
    "## Importando as bibliotecas necessárias"
   ]
  },
  {
   "cell_type": "code",
   "execution_count": 1,
   "metadata": {},
   "outputs": [],
   "source": [
    "import pandas as pd\n",
    "import matplotlib.pyplot as plt"
   ]
  },
  {
   "cell_type": "markdown",
   "metadata": {},
   "source": [
    "## Lendo a planilha com os dados limpos"
   ]
  },
  {
   "cell_type": "code",
   "execution_count": 3,
   "metadata": {},
   "outputs": [],
   "source": [
    "dfs_file = pd.ExcelFile(\"DFs-MRV-Limpo.xlsx\", engine=\"openpyxl\")\n",
    "cotacao_file = pd.ExcelFile(\"Cotacoes-MRV.xlsx\", engine=\"openpyxl\")\n",
    "\n",
    "BP = pd.read_excel(dfs_file, \"BP\")\n",
    "DFC = pd.read_excel(dfs_file, \"DFC\")\n",
    "DRE = pd.read_excel(dfs_file, \"DRE\")\n",
    "COTACOES = pd.read_excel(cotacao_file, \"MRVE3\")"
   ]
  },
  {
   "cell_type": "code",
   "execution_count": 4,
   "metadata": {},
   "outputs": [
    {
     "ename": "KeyError",
     "evalue": "'Fechamento'",
     "output_type": "error",
     "traceback": [
      "\u001b[0;31m---------------------------------------------------------------------------\u001b[0m",
      "\u001b[0;31mKeyError\u001b[0m                                  Traceback (most recent call last)",
      "\u001b[0;32m~/opt/anaconda3/lib/python3.7/site-packages/pandas/core/indexes/base.py\u001b[0m in \u001b[0;36mget_loc\u001b[0;34m(self, key, method, tolerance)\u001b[0m\n\u001b[1;32m   2890\u001b[0m             \u001b[0;32mtry\u001b[0m\u001b[0;34m:\u001b[0m\u001b[0;34m\u001b[0m\u001b[0;34m\u001b[0m\u001b[0m\n\u001b[0;32m-> 2891\u001b[0;31m                 \u001b[0;32mreturn\u001b[0m \u001b[0mself\u001b[0m\u001b[0;34m.\u001b[0m\u001b[0m_engine\u001b[0m\u001b[0;34m.\u001b[0m\u001b[0mget_loc\u001b[0m\u001b[0;34m(\u001b[0m\u001b[0mcasted_key\u001b[0m\u001b[0;34m)\u001b[0m\u001b[0;34m\u001b[0m\u001b[0;34m\u001b[0m\u001b[0m\n\u001b[0m\u001b[1;32m   2892\u001b[0m             \u001b[0;32mexcept\u001b[0m \u001b[0mKeyError\u001b[0m \u001b[0;32mas\u001b[0m \u001b[0merr\u001b[0m\u001b[0;34m:\u001b[0m\u001b[0;34m\u001b[0m\u001b[0;34m\u001b[0m\u001b[0m\n",
      "\u001b[0;32mpandas/_libs/index.pyx\u001b[0m in \u001b[0;36mpandas._libs.index.IndexEngine.get_loc\u001b[0;34m()\u001b[0m\n",
      "\u001b[0;32mpandas/_libs/index.pyx\u001b[0m in \u001b[0;36mpandas._libs.index.IndexEngine.get_loc\u001b[0;34m()\u001b[0m\n",
      "\u001b[0;32mpandas/_libs/hashtable_class_helper.pxi\u001b[0m in \u001b[0;36mpandas._libs.hashtable.PyObjectHashTable.get_item\u001b[0;34m()\u001b[0m\n",
      "\u001b[0;32mpandas/_libs/hashtable_class_helper.pxi\u001b[0m in \u001b[0;36mpandas._libs.hashtable.PyObjectHashTable.get_item\u001b[0;34m()\u001b[0m\n",
      "\u001b[0;31mKeyError\u001b[0m: 'Fechamento'",
      "\nThe above exception was the direct cause of the following exception:\n",
      "\u001b[0;31mKeyError\u001b[0m                                  Traceback (most recent call last)",
      "\u001b[0;32m<ipython-input-4-7c33715d32e4>\u001b[0m in \u001b[0;36m<module>\u001b[0;34m\u001b[0m\n\u001b[1;32m      1\u001b[0m \u001b[0mCOTACOES\u001b[0m\u001b[0;34m.\u001b[0m\u001b[0mdropna\u001b[0m\u001b[0;34m(\u001b[0m\u001b[0mhow\u001b[0m\u001b[0;34m=\u001b[0m\u001b[0;34m'all'\u001b[0m\u001b[0;34m,\u001b[0m \u001b[0maxis\u001b[0m\u001b[0;34m=\u001b[0m\u001b[0;34m'columns'\u001b[0m\u001b[0;34m,\u001b[0m \u001b[0minplace\u001b[0m\u001b[0;34m=\u001b[0m\u001b[0;32mTrue\u001b[0m\u001b[0;34m)\u001b[0m\u001b[0;34m\u001b[0m\u001b[0;34m\u001b[0m\u001b[0m\n\u001b[0;32m----> 2\u001b[0;31m \u001b[0mCOTACOES\u001b[0m\u001b[0;34m.\u001b[0m\u001b[0mdrop\u001b[0m\u001b[0;34m(\u001b[0m\u001b[0mCOTACOES\u001b[0m\u001b[0;34m.\u001b[0m\u001b[0mindex\u001b[0m\u001b[0;34m[\u001b[0m\u001b[0mCOTACOES\u001b[0m\u001b[0;34m[\u001b[0m\u001b[0;34m'Fechamento'\u001b[0m\u001b[0;34m]\u001b[0m \u001b[0;34m==\u001b[0m \u001b[0;34m'-'\u001b[0m\u001b[0;34m]\u001b[0m\u001b[0;34m,\u001b[0m \u001b[0minplace\u001b[0m \u001b[0;34m=\u001b[0m \u001b[0;32mTrue\u001b[0m\u001b[0;34m)\u001b[0m\u001b[0;34m\u001b[0m\u001b[0;34m\u001b[0m\u001b[0m\n\u001b[0m\u001b[1;32m      3\u001b[0m \u001b[0mBP\u001b[0m\u001b[0;34m.\u001b[0m\u001b[0mdropna\u001b[0m\u001b[0;34m(\u001b[0m\u001b[0mhow\u001b[0m\u001b[0;34m=\u001b[0m\u001b[0;34m'all'\u001b[0m\u001b[0;34m,\u001b[0m \u001b[0maxis\u001b[0m\u001b[0;34m=\u001b[0m\u001b[0;34m'columns'\u001b[0m\u001b[0;34m,\u001b[0m \u001b[0minplace\u001b[0m\u001b[0;34m=\u001b[0m\u001b[0;32mTrue\u001b[0m\u001b[0;34m)\u001b[0m\u001b[0;34m;\u001b[0m\u001b[0;34m\u001b[0m\u001b[0;34m\u001b[0m\u001b[0m\n\u001b[1;32m      4\u001b[0m \u001b[0mDFC\u001b[0m\u001b[0;34m.\u001b[0m\u001b[0mdropna\u001b[0m\u001b[0;34m(\u001b[0m\u001b[0mhow\u001b[0m\u001b[0;34m=\u001b[0m\u001b[0;34m'all'\u001b[0m\u001b[0;34m,\u001b[0m \u001b[0maxis\u001b[0m\u001b[0;34m=\u001b[0m\u001b[0;34m'columns'\u001b[0m\u001b[0;34m,\u001b[0m \u001b[0minplace\u001b[0m\u001b[0;34m=\u001b[0m\u001b[0;32mTrue\u001b[0m\u001b[0;34m)\u001b[0m\u001b[0;34m;\u001b[0m\u001b[0;34m\u001b[0m\u001b[0;34m\u001b[0m\u001b[0m\n\u001b[1;32m      5\u001b[0m \u001b[0mDRE\u001b[0m\u001b[0;34m.\u001b[0m\u001b[0mdropna\u001b[0m\u001b[0;34m(\u001b[0m\u001b[0mhow\u001b[0m\u001b[0;34m=\u001b[0m\u001b[0;34m'all'\u001b[0m\u001b[0;34m,\u001b[0m \u001b[0maxis\u001b[0m\u001b[0;34m=\u001b[0m\u001b[0;34m'columns'\u001b[0m\u001b[0;34m,\u001b[0m \u001b[0minplace\u001b[0m\u001b[0;34m=\u001b[0m\u001b[0;32mTrue\u001b[0m\u001b[0;34m)\u001b[0m\u001b[0;34m;\u001b[0m \u001b[0;31m# ; supress output\u001b[0m\u001b[0;34m\u001b[0m\u001b[0;34m\u001b[0m\u001b[0m\n",
      "\u001b[0;32m~/opt/anaconda3/lib/python3.7/site-packages/pandas/core/frame.py\u001b[0m in \u001b[0;36m__getitem__\u001b[0;34m(self, key)\u001b[0m\n\u001b[1;32m   2900\u001b[0m             \u001b[0;32mif\u001b[0m \u001b[0mself\u001b[0m\u001b[0;34m.\u001b[0m\u001b[0mcolumns\u001b[0m\u001b[0;34m.\u001b[0m\u001b[0mnlevels\u001b[0m \u001b[0;34m>\u001b[0m \u001b[0;36m1\u001b[0m\u001b[0;34m:\u001b[0m\u001b[0;34m\u001b[0m\u001b[0;34m\u001b[0m\u001b[0m\n\u001b[1;32m   2901\u001b[0m                 \u001b[0;32mreturn\u001b[0m \u001b[0mself\u001b[0m\u001b[0;34m.\u001b[0m\u001b[0m_getitem_multilevel\u001b[0m\u001b[0;34m(\u001b[0m\u001b[0mkey\u001b[0m\u001b[0;34m)\u001b[0m\u001b[0;34m\u001b[0m\u001b[0;34m\u001b[0m\u001b[0m\n\u001b[0;32m-> 2902\u001b[0;31m             \u001b[0mindexer\u001b[0m \u001b[0;34m=\u001b[0m \u001b[0mself\u001b[0m\u001b[0;34m.\u001b[0m\u001b[0mcolumns\u001b[0m\u001b[0;34m.\u001b[0m\u001b[0mget_loc\u001b[0m\u001b[0;34m(\u001b[0m\u001b[0mkey\u001b[0m\u001b[0;34m)\u001b[0m\u001b[0;34m\u001b[0m\u001b[0;34m\u001b[0m\u001b[0m\n\u001b[0m\u001b[1;32m   2903\u001b[0m             \u001b[0;32mif\u001b[0m \u001b[0mis_integer\u001b[0m\u001b[0;34m(\u001b[0m\u001b[0mindexer\u001b[0m\u001b[0;34m)\u001b[0m\u001b[0;34m:\u001b[0m\u001b[0;34m\u001b[0m\u001b[0;34m\u001b[0m\u001b[0m\n\u001b[1;32m   2904\u001b[0m                 \u001b[0mindexer\u001b[0m \u001b[0;34m=\u001b[0m \u001b[0;34m[\u001b[0m\u001b[0mindexer\u001b[0m\u001b[0;34m]\u001b[0m\u001b[0;34m\u001b[0m\u001b[0;34m\u001b[0m\u001b[0m\n",
      "\u001b[0;32m~/opt/anaconda3/lib/python3.7/site-packages/pandas/core/indexes/base.py\u001b[0m in \u001b[0;36mget_loc\u001b[0;34m(self, key, method, tolerance)\u001b[0m\n\u001b[1;32m   2891\u001b[0m                 \u001b[0;32mreturn\u001b[0m \u001b[0mself\u001b[0m\u001b[0;34m.\u001b[0m\u001b[0m_engine\u001b[0m\u001b[0;34m.\u001b[0m\u001b[0mget_loc\u001b[0m\u001b[0;34m(\u001b[0m\u001b[0mcasted_key\u001b[0m\u001b[0;34m)\u001b[0m\u001b[0;34m\u001b[0m\u001b[0;34m\u001b[0m\u001b[0m\n\u001b[1;32m   2892\u001b[0m             \u001b[0;32mexcept\u001b[0m \u001b[0mKeyError\u001b[0m \u001b[0;32mas\u001b[0m \u001b[0merr\u001b[0m\u001b[0;34m:\u001b[0m\u001b[0;34m\u001b[0m\u001b[0;34m\u001b[0m\u001b[0m\n\u001b[0;32m-> 2893\u001b[0;31m                 \u001b[0;32mraise\u001b[0m \u001b[0mKeyError\u001b[0m\u001b[0;34m(\u001b[0m\u001b[0mkey\u001b[0m\u001b[0;34m)\u001b[0m \u001b[0;32mfrom\u001b[0m \u001b[0merr\u001b[0m\u001b[0;34m\u001b[0m\u001b[0;34m\u001b[0m\u001b[0m\n\u001b[0m\u001b[1;32m   2894\u001b[0m \u001b[0;34m\u001b[0m\u001b[0m\n\u001b[1;32m   2895\u001b[0m         \u001b[0;32mif\u001b[0m \u001b[0mtolerance\u001b[0m \u001b[0;32mis\u001b[0m \u001b[0;32mnot\u001b[0m \u001b[0;32mNone\u001b[0m\u001b[0;34m:\u001b[0m\u001b[0;34m\u001b[0m\u001b[0;34m\u001b[0m\u001b[0m\n",
      "\u001b[0;31mKeyError\u001b[0m: 'Fechamento'"
     ]
    }
   ],
   "source": [
    "COTACOES.dropna(how='all', axis='columns', inplace=True)\n",
    "COTACOES.drop(COTACOES.index[COTACOES['Fechamento'] == '-'], inplace = True)\n",
    "BP.dropna(how='all', axis='columns', inplace=True);\n",
    "DFC.dropna(how='all', axis='columns', inplace=True);\n",
    "DRE.dropna(how='all', axis='columns', inplace=True); # ; supress output"
   ]
  },
  {
   "cell_type": "markdown",
   "metadata": {},
   "source": [
    "## Função para encontrar células nos DataFrames com base em DF, nome da conta e ano"
   ]
  },
  {
   "cell_type": "code",
   "execution_count": null,
   "metadata": {},
   "outputs": [],
   "source": [
    "def getValue(df, nome_coluna_principal, ano, coluna_principal=\"MRV ON (R$ em milhares)\"):\n",
    "    return df[df[coluna_principal] == nome_coluna_principal][ano].values[0]"
   ]
  },
  {
   "cell_type": "markdown",
   "metadata": {},
   "source": [
    "## Indicadores de Solvência de Curto Prazo\n",
    "\n",
    "$Liquidez \\; Corrente = \\frac{Ativo \\; Circulante}{Passivo \\; Circulante}$\n",
    "\n",
    "$Liquidez \\; Seca = \\frac{Ativo \\; Circulante \\; - \\; Estoque}{Passivo \\; Circulante}$\n",
    "\n",
    "$Liquidez \\; Imediata = \\frac{Caixa}{Passivo \\; Circulante}$"
   ]
  },
  {
   "cell_type": "code",
   "execution_count": null,
   "metadata": {},
   "outputs": [],
   "source": [
    "years = [2016, 2017, 2018, 2019, 2020]\n",
    "\n",
    "liquidezCorrente = []\n",
    "liquidezSeca = []\n",
    "liquidezImediata = []\n",
    "\n",
    "for i in years:\n",
    "    ativoCirculante = getValue(BP, 'Ativo Circulante', i)\n",
    "    passivoCirculante = getValue(BP, 'Passivo Circulante', i)\n",
    "    estoquesCP = getValue(BP, 'Estoques CP', i)\n",
    "    caixa = getValue(BP, 'Caixa e Equivalentes', i)\n",
    "    \n",
    "    liquidezCorrente_ = ativoCirculante / passivoCirculante\n",
    "    liquidezSeca_ = (ativoCirculante - estoquesCP) / passivoCirculante\n",
    "    liquidezImediata_ = caixa / passivoCirculante\n",
    "    \n",
    "    liquidezCorrente.append(liquidezCorrente_)\n",
    "    liquidezSeca.append(liquidezSeca_)\n",
    "    liquidezImediata.append(liquidezImediata_)\n",
    "\n",
    "solvenciaCP = pd.DataFrame()   \n",
    "\n",
    "solvenciaCP[\"Ano\"] = years\n",
    "solvenciaCP[\"Liquidez Corrente\"] = liquidezCorrente\n",
    "solvenciaCP[\"Liquidez Seca\"] = liquidezSeca\n",
    "solvenciaCP[\"Liquidez Imediata\"] = liquidezImediata\n",
    "    \n",
    "solvenciaCP"
   ]
  },
  {
   "cell_type": "code",
   "execution_count": null,
   "metadata": {},
   "outputs": [],
   "source": [
    "plt.figure(figsize=(10, 6))\n",
    "plt.plot(years, liquidezCorrente, 'o--', label=\"Liquidez Corrente\")\n",
    "plt.plot(years, liquidezSeca, 'o--', label=\"Liquidez Seca\")\n",
    "plt.plot(years, liquidezImediata, 'o--', label=\"Liquidez Imediata\")\n",
    "plt.xticks(years)\n",
    "plt.title(\"Indicadores de Solvência de Curto Prazo\", size=16)\n",
    "plt.grid(True)\n",
    "plt.legend()\n",
    "plt.show()"
   ]
  },
  {
   "cell_type": "markdown",
   "metadata": {},
   "source": [
    "## Indicadores de Solvência de Longo Prazo\n",
    "\n",
    "$Endividamento \\; Total = \\frac{Passivo \\; Total}{Ativo \\; Total}$\n",
    "\n",
    "$Índice \\; Dívida/Capital \\; Próprio = \\frac{Passivo \\; Financeiro}{Patrimônio \\; Líquido}$\n",
    "\n",
    "$Multiplicador \\; do \\; PL = \\frac{Ativo \\; Total}{Patrimônio \\; Líquido}$\n",
    "\n",
    "$Índice \\; de \\; Cobertura \\; de \\; Juros = \\frac{LAJIR}{Juros}$\n",
    "\n",
    "$Índice \\; de \\; Cobertura \\; de \\; Caixa = \\frac{LAJIDA}{Juros}$\n",
    "\n",
    "$Índice \\; de \\; Endividamento/LAJIDA = \\frac{Passivo \\; Total}{LAJIDA}$"
   ]
  },
  {
   "cell_type": "code",
   "execution_count": null,
   "metadata": {},
   "outputs": [],
   "source": [
    "# TODO: Confirmar se a equação de Endividamento/LAJIDA está certa\n",
    "years = [2017, 2018, 2019, 2020]\n",
    "\n",
    "endividamentoTotal = []\n",
    "dividaPorCapitalProprio = []\n",
    "multPatrimonioLiq = []\n",
    "coberturaJuros = []\n",
    "coberturaCaixa = []\n",
    "endividamentoLAJIDA = []\n",
    "\n",
    "for i in years:\n",
    "    ativoTotal = getValue(BP, 'Ativo Total', i)\n",
    "    passivoTotal = getValue(BP, 'Passivo Total', i)\n",
    "    patrimonioLiquido = getValue(BP, 'Patrimônio Líquido Consolidado', i)\n",
    "    financiamentoCP = getValue(BP, 'Financiamento CP', i)\n",
    "    financiamentoLP = getValue(BP, 'Financiamento LP', i)\n",
    "    debenturesCP = getValue(BP, 'Debêntures CP', i)\n",
    "    debenturesLP = getValue(BP, 'Debêntures LP', i)\n",
    "    dividaTotal = financiamentoCP + financiamentoLP + debenturesCP + debenturesLP\n",
    "    lajir = getValue(DRE, '(=) LAJIR', i)\n",
    "    lajida = lajir + getValue(DFC, 'Depreciação, Amortização e Exaustão', i)\n",
    "    juros = getValue(DRE, '(-) Despesas Financeiras', i)\n",
    "    \n",
    "    endividamentoTotal_ = passivoTotal / ativoTotal\n",
    "    dividaPorCapitalProprio_ = dividaTotal / patrimonioLiquido\n",
    "    multPatrimonioLiq_ = ativoTotal / patrimonioLiquido\n",
    "    coberturaJuros_ = lajir / juros\n",
    "    coberturaCaixa_ = lajida / juros\n",
    "    endividamentoLajida_ = passivoTotal / lajida\n",
    "    \n",
    "    endividamentoTotal.append(endividamentoTotal_)\n",
    "    dividaPorCapitalProprio.append(dividaPorCapitalProprio_)\n",
    "    multPatrimonioLiq.append(multPatrimonioLiq_)\n",
    "    coberturaJuros.append(coberturaJuros_)\n",
    "    coberturaCaixa.append(coberturaCaixa_)\n",
    "    endividamentoLAJIDA.append(endividamentoLajida_)\n",
    "\n",
    "solvenciaLP = pd.DataFrame()\n",
    "\n",
    "solvenciaLP[\"Ano\"] = years\n",
    "solvenciaLP[\"Endividamento Total\"] = endividamentoTotal\n",
    "solvenciaLP[\"Dívida/Capital Próprio\"] = dividaPorCapitalProprio\n",
    "solvenciaLP[\"Multiplicador do PL\"] = multPatrimonioLiq\n",
    "solvenciaLP[\"Cobertura de Juros\"] = coberturaJuros\n",
    "solvenciaLP[\"Cobertura de Caixa\"] = coberturaCaixa\n",
    "solvenciaLP[\"Endividamento LAJIDA\"] = endividamentoLAJIDA\n",
    "\n",
    "solvenciaLP"
   ]
  },
  {
   "cell_type": "code",
   "execution_count": null,
   "metadata": {},
   "outputs": [],
   "source": [
    "fig, (ax1, ax2, ax3) = plt.subplots(nrows=1, ncols=3, figsize=(22, 6))\n",
    "ax1.plot(years, endividamentoTotal, 'o--', label=\"Endividamento Total\")\n",
    "ax1.plot(years, dividaPorCapitalProprio, 'o--', label=\"Índice Dívida/Capital Próprio\")\n",
    "ax1.set_xticks(years)\n",
    "ax1.grid(True)\n",
    "ax1.legend()\n",
    "ax2.plot(years, multPatrimonioLiq, 'o--', label=\"Multiplicador do PL\", color=\"red\")\n",
    "ax2.set_title(\"Indicadores de Solvência de Longo Prazo\", size=16)\n",
    "ax2.set_xticks(years)\n",
    "ax2.grid(True)\n",
    "ax2.legend()\n",
    "ax3.plot(years, coberturaJuros, 'o--', label=\"Índice de Cobertura de Juros\", color=\"green\")\n",
    "ax3.plot(years, coberturaCaixa, 'o--', label=\"Índice de Cobertura de Caixa\", color=\"purple\")\n",
    "ax3.set_xticks(years)\n",
    "ax3.grid(True)\n",
    "ax3.legend()\n",
    "plt.show()"
   ]
  },
  {
   "cell_type": "markdown",
   "metadata": {},
   "source": [
    "## Indicadores de Gestão de Ativos ou de Giro\n",
    "\n",
    "$Giro \\; do \\; Estoque = \\frac{Custo \\; dos \\; Produtos \\; Vendidos}{Estoque}$\n",
    "\n",
    "$Prazo \\; Médio \\; de \\; Estocagem \\; (PME) = \\frac{365 \\; dias}{Giro \\; do \\; Estoque}$\n",
    "\n",
    "$Giro \\; de \\; Contas \\; a \\; Receber = \\frac{Vendas}{Contas \\; a \\; Receber}$\n",
    "\n",
    "$Prazo \\; Médio \\; de \\; Recebimento \\; (PMR) = \\frac{365 \\; dias}{Giro \\; de \\; Contas \\; a \\; Receber}$\n",
    "\n",
    "$Giro \\; do \\; Ativo \\; Total = \\frac{Vendas}{Ativo \\; Total}$\n"
   ]
  },
  {
   "cell_type": "code",
   "execution_count": null,
   "metadata": {},
   "outputs": [],
   "source": [
    "years = [2017, 2018, 2019, 2020]\n",
    "\n",
    "giroEstoque = []\n",
    "PME = []\n",
    "giroContasAReceber = []\n",
    "PMR = []\n",
    "giroAtivoTotal = []\n",
    "\n",
    "for i in years:\n",
    "    CMV = getValue(DRE, '(-) Custo dos Produtos Vendidos', i)\n",
    "    estoque = getValue(BP, 'Estoques CP', i)\n",
    "    \n",
    "    giroEstoque_ = CMV / estoque\n",
    "    PME_ = 365 / giroEstoque_\n",
    "    \n",
    "    vendas = getValue(DRE, '(+) Receita Líquida Operacional', i)\n",
    "    contasAReceber = getValue(BP, 'Contas a Receber CP', i)\n",
    "    giroContasAReceber_ = vendas / contasAReceber\n",
    "    \n",
    "    PMR_ = 365/giroContasAReceber_\n",
    "    \n",
    "    ativoTotal = getValue(BP, 'Ativo Total', i)\n",
    "    giroAtivoTotal_ = vendas / ativoTotal\n",
    "    \n",
    "    giroEstoque.append(giroEstoque_)\n",
    "    PME.append(PME_)\n",
    "    giroContasAReceber.append(giroContasAReceber_)\n",
    "    PMR.append(PMR_)\n",
    "    giroAtivoTotal.append(giroAtivoTotal_)\n",
    "\n",
    "gestaoAtivos = pd.DataFrame()\n",
    "\n",
    "gestaoAtivos[\"Ano\"] = years\n",
    "gestaoAtivos[\"Giro do Estoque\"] = giroEstoque\n",
    "gestaoAtivos[\"PME\"] = PME\n",
    "gestaoAtivos[\"Giro de Contas a Receber\"] = giroContasAReceber\n",
    "gestaoAtivos[\"PMR\"] = PMR\n",
    "gestaoAtivos[\"Giro do Ativo Total\"] = giroAtivoTotal\n",
    "    \n",
    "gestaoAtivos "
   ]
  },
  {
   "cell_type": "code",
   "execution_count": null,
   "metadata": {},
   "outputs": [],
   "source": [
    "fig, (ax1, ax2) = plt.subplots(nrows=1, ncols=2, figsize=(22, 6))\n",
    "ax1.plot(years, giroEstoque, 'o--', label=\"Giro de Estoque\")\n",
    "ax1.plot(years, giroContasAReceber, 'o--', label=\"Giro de Contas a Receber\")\n",
    "ax1.plot(years, giroAtivoTotal, 'o--', label=\"Giro do Ativo Total\")\n",
    "ax1.set_xticks(years)\n",
    "ax1.grid(True)\n",
    "ax1.legend()\n",
    "ax2.plot(years, PME, 'o--', label=\"PME\", color=\"red\")\n",
    "ax2.plot(years, PMR, 'o--', label=\"PMR\", color=\"purple\")\n",
    "ax2.set_xticks(years)\n",
    "ax2.grid(True)\n",
    "ax2.legend()\n",
    "plt.show()"
   ]
  },
  {
   "cell_type": "markdown",
   "metadata": {},
   "source": [
    "## Medidas de Lucratividade\n",
    "\n",
    "$Margem \\; Bruta = \\frac{Lucro \\; Bruto}{Vendas}$\n",
    "\n",
    "$Margem \\; LAJIDA = \\frac{LAJIDA}{Vendas}$\n",
    "\n",
    "$Margem \\; Líquida = \\frac{Lucro \\; Líquido}{Vendas}$\n",
    "\n",
    "$Retorno \\; sobre \\; o \\; Ativo \\; (ROA) = \\frac{Lucro \\; Líquido}{Ativo \\; Total}$\n",
    "\n",
    "$Retorno \\; sobre \\; o \\; PL \\; (ROE) = \\frac{Lucro \\; Líquido}{Patrimônio \\; Líquido}$"
   ]
  },
  {
   "cell_type": "code",
   "execution_count": null,
   "metadata": {},
   "outputs": [],
   "source": [
    "years = [2017, 2018, 2019, 2020]\n",
    "\n",
    "margemBruta = []\n",
    "margemLAJIDA = []\n",
    "margemLiquida = []\n",
    "ROA = []\n",
    "ROE = []\n",
    "\n",
    "for i in years:\n",
    "    \n",
    "    vendas = getValue(DRE, '(+) Receita Líquida Operacional', i)\n",
    "    lucroBruto = getValue(DRE, '(=) Lucro Bruto', i)\n",
    "    \n",
    "    margemBruta_ = lucroBruto / vendas\n",
    "    \n",
    "    lajir = getValue(DRE, '(=) LAJIR', i)\n",
    "    lajida = getValue(DFC, 'Depreciação, Amortização e Exaustão', i) + lajir\n",
    "    \n",
    "    margemLAJIDA_ = lajida / vendas\n",
    "    \n",
    "    lucroLiquido = getValue(DRE, '(=) Lucro Líquido', i)\n",
    "    \n",
    "    margemLiquida_ = lucroLiquido / vendas\n",
    "    \n",
    "    ativoTotal = getValue(BP, 'Ativo Total', i)\n",
    "    ROA_ = lucroLiquido / ativoTotal\n",
    "    \n",
    "    patrimonioLiquido = getValue(BP, 'Patrimônio Líquido Consolidado', i)\n",
    "    ROE_ = lucroLiquido / patrimonioLiquido\n",
    "    \n",
    "    margemBruta.append(margemBruta_)\n",
    "    margemLAJIDA.append(margemLAJIDA_)\n",
    "    margemLiquida.append(margemLiquida_)\n",
    "    ROA.append(ROA_)\n",
    "    ROE.append(ROE_)\n",
    "\n",
    "lucratividade = pd.DataFrame()\n",
    "\n",
    "lucratividade[\"Ano\"] = years\n",
    "lucratividade[\"Margem Bruta\"] = margemBruta\n",
    "lucratividade[\"Margem LAJIDA\"] = margemLAJIDA\n",
    "lucratividade[\"Margem Líquida\"] = margemLiquida\n",
    "lucratividade[\"ROA\"] = ROA\n",
    "lucratividade[\"ROE\"] = ROE\n",
    "\n",
    "lucratividade"
   ]
  },
  {
   "cell_type": "code",
   "execution_count": null,
   "metadata": {},
   "outputs": [],
   "source": [
    "plt.figure(figsize=(10, 6))\n",
    "plt.plot(years, margemBruta, 'o--', label=\"Margem Bruta\")\n",
    "plt.plot(years, margemLAJIDA, 'o--', label=\"Margem LAJIDA\")\n",
    "plt.plot(years, margemLiquida, 'o--', label=\"Margem Líquida\")\n",
    "plt.plot(years, ROA, 'o--', label=\"ROA\")\n",
    "plt.plot(years, ROE, 'o--', label=\"ROE\")\n",
    "plt.xticks(years)\n",
    "plt.title(\"Medidas de Lucratividade\", size=16)\n",
    "plt.grid(True)\n",
    "plt.legend()\n",
    "plt.show()"
   ]
  },
  {
   "cell_type": "markdown",
   "metadata": {},
   "source": [
    "## Medidas de Valor de Mercado\n",
    "\n",
    "$Índice \\; Preço/Lucro = \\frac{Preço \\; por \\; Ação}{Lucro \\; por \\; Ação}$\n",
    "\n",
    "$Índice \\; Valor \\; de \\; Mercado/Valor \\; Contábil = \\frac{Valor \\; de \\; Mercado \\; por \\; Ação}{Valor \\; Contábil \\; por \\; Ação}$"
   ]
  },
  {
   "cell_type": "code",
   "execution_count": null,
   "metadata": {},
   "outputs": [],
   "source": [
    "def getYearPrice(df, year):\n",
    "    df = df[df[\"Data\"] < f\"{year+1}-12-30\"].tail(1)\n",
    "    return float(df[\"Fechamento\"])\n",
    "\n",
    "#COTACOES[COTACOES[\"Data\"] == \"2010-12-30\"]"
   ]
  },
  {
   "cell_type": "code",
   "execution_count": null,
   "metadata": {},
   "outputs": [],
   "source": [
    "years = [2017, 2018, 2019, 2020]\n",
    "acoes = [472989.1892, 443354.9708, 445164.2857, 445164.2857]\n",
    "\n",
    "precoLucro = []\n",
    "mercadoContabil = []\n",
    "\n",
    "n_acoes = 4441.4 #Em milhares\n",
    "\n",
    "for i, a in zip(years, acoes):\n",
    "    \n",
    "    precoPorAcao = getYearPrice(COTACOES, i)\n",
    "    \n",
    "    lucroLiquido = getValue(DRE, '(=) Lucro Líquido', i)\n",
    "    \n",
    "    lucroPorAcao = lucroLiquido/a\n",
    "    precoLucro_ = precoPorAcao/lucroPorAcao\n",
    "    \n",
    "    valorMercado = precoPorAcao*a\n",
    "    \n",
    "    ativoTotal = getValue(BP, 'Ativo Total', i)\n",
    "    passivoTotal = getValue(BP, 'Passivo Total', i)\n",
    "    bookValue = ativoTotal - passivoTotal\n",
    "        \n",
    "    mercadoContabil_ = valorMercado/bookValue\n",
    "    \n",
    "    precoLucro.append(precoLucro_)\n",
    "    mercadoContabil.append(mercadoContabil_)\n",
    "    \n",
    "# for i in range(len(years)):\n",
    "#     print(years[i])\n",
    "#     print(f\"\\t Índice preço/lucro:                     {precoLucro[i]}\")\n",
    "#     print(f\"\\t Índice Valor de Mercado/Valor Contábil: {mercadoContabil[i]}\")\n",
    "\n",
    "#plotar graficos\n",
    "plt.figure(figsize=(10, 6))\n",
    "plt.plot(years, precoLucro, 'o--', label=\"P/E\")\n",
    "plt.plot(years, mercadoContabil, 'o--', label=\"EquityValue/BookValue\")\n",
    "plt.xticks(years)\n",
    "plt.title(\"Medidas de Valor de Mercado\")\n",
    "plt.legend()\n",
    "plt.show()"
   ]
  },
  {
   "cell_type": "markdown",
   "metadata": {},
   "source": [
    "## DuPont\n",
    "\n",
    "$ROE = Margem \\; Líquida \\; \\cdot \\; Giro \\; do \\; Ativo \\; \\cdot Multiplicador \\; do \\; PL$"
   ]
  },
  {
   "cell_type": "code",
   "execution_count": null,
   "metadata": {},
   "outputs": [],
   "source": [
    "duPont = pd.DataFrame()\n",
    "\n",
    "duPont[\"Anos\"] = years\n",
    "duPont[\"Margem Líquida\"] = margemLiquida\n",
    "duPont[\"Giro do Ativo\"] = giroAtivoTotal\n",
    "duPont[\"Multiplicador do PL\"] = multPatrimonioLiq\n",
    "duPont[\"ROE\"] = ROE\n",
    "duPont[\"ROE DuPont\"] = duPont[\"Margem Líquida\"] * duPont[\"Giro do Ativo\"] * duPont[\"Multiplicador do PL\"]\n",
    "\n",
    "duPont"
   ]
  },
  {
   "cell_type": "markdown",
   "metadata": {},
   "source": [
    "## Fluxo de Caixa\n",
    "\n",
    "# Precisa conferir as contas, não estão batendo\n",
    "\n",
    "### Fluxo de Caixa Operacional\n",
    "\n",
    "$FCO = EBIT \\; + \\; Depreciação \\; – \\; Impostos \\; Correntes$\n",
    "\n",
    "### Fluxo de Caixa dos Ativos\n",
    "\n",
    "$FC(A) = FCO \\; - \\; Gastos \\; de \\; Capital \\; - \\;  Variação \\; do \\; CCL$"
   ]
  },
  {
   "cell_type": "code",
   "execution_count": null,
   "metadata": {},
   "outputs": [],
   "source": [
    "years = [2019, 2020]\n",
    "\n",
    "FCA = []\n",
    "FCO = []\n",
    "CAPEX = []\n",
    "varCCL = []\n",
    "\n",
    "for i in years: \n",
    "    EBIT = getValue(DRE, '(=) LAJIR', i)\n",
    "    depre = getValue(DFC, 'Depreciação, Amortização e Exaustão', i)\n",
    "    impostosCorrentes = getValue(DRE, '(-) IR e CSLL', i)\n",
    "    \n",
    "    FCO_ = EBIT + depre - impostosCorrentes\n",
    "    \n",
    "#     varImob = getValue(BP, 'Imobilizado', i) - getValue(BP, 'Imobilizado', i - 1)\n",
    "#     varIntan = getValue(BP, 'Intangível', i) - getValue(BP, 'Intangível', i - 1)\n",
    "#     varInv = getValue(BP, 'Investimentos', i) - getValue(BP, 'Investimentos', i - 1)\n",
    "#     CAPEX_ = varImob + varIntan + varInv\n",
    "#     CAPEX_ = varImob + varIntan\n",
    "    \n",
    "    CAPEX_ = getValue(DFC, 'Compra Líquida de Ativo Permanente', i)\n",
    "    \n",
    "#     atualCCL = getValue(BP, 'Ativo Circulante', i) - (getValue(BP, 'Passivo Circulante', i) - getValue(BP, 'Financiamento CP', i) - getValue(BP, 'Debêntures CP', i))\n",
    "#     anteriorCCL = getValue(BP, 'Ativo Circulante', i - 1) - (getValue(BP, 'Passivo Circulante', i - 1) - getValue(BP, 'Financiamento CP', i - 1) - getValue(BP, 'Debêntures CP', i - 1))\n",
    "#     varCCL_ = atualCCL - anteriorCCL\n",
    "\n",
    "    varCCL_ = getValue(DFC, 'Variação em Ativo e Passivo', i)\n",
    "    \n",
    "    FCA_ = FCO_ - CAPEX_ - varCCL_\n",
    "    \n",
    "    FCA.append(FCA_)\n",
    "    FCO.append(FCO_)\n",
    "    CAPEX.append(CAPEX_)\n",
    "    varCCL.append(varCCL_)\n",
    "    \n",
    "FCA_DF = pd.DataFrame()\n",
    "\n",
    "FCA_DF[\"Anos\"] = years\n",
    "FCA_DF[\"FCO\"] = FCO \n",
    "FCA_DF[\"CAPEX\"] = CAPEX\n",
    "FCA_DF[\"Var. CCL\"] = varCCL \n",
    "FCA_DF[\"FC(A)\"] = FCA \n",
    "\n",
    "FCA_DF"
   ]
  },
  {
   "cell_type": "markdown",
   "metadata": {},
   "source": [
    "### Fluxo de Caixa dos Credores\n",
    "\n",
    "$FC(B) = Despesas \\; Financeiras \\; - \\; Mudança \\; de \\; Dívida \\; CP \\; e \\; LP$"
   ]
  },
  {
   "cell_type": "code",
   "execution_count": null,
   "metadata": {},
   "outputs": [],
   "source": [
    "FCB = []\n",
    "\n",
    "for i in years:\n",
    "    juros = getValue(DRE, '(-) Despesas Financeiras', i)\n",
    "    \n",
    "#     dividaTotalAtual = getValue(BP, 'Financiamento CP', i) + getValue(BP, 'Financiamento LP', i) + getValue(BP, 'Debêntures CP', i) + getValue(BP, 'Debêntures LP', i)\n",
    "#     dividaTotalAnterior = getValue(BP, 'Financiamento CP', i - 1) + getValue(BP, 'Financiamento LP', i - 1) + getValue(BP, 'Debêntures CP', i - 1) + getValue(BP, 'Debêntures LP', i - 1)\n",
    "#     mudancaDivida = dividaTotalAtual - dividaTotalAnterior\n",
    "\n",
    "    mudancaDivida = getValue(DFC, 'Financiamentos Obtidos Líquido', i)\n",
    "\n",
    "    FCB_ = juros - mudancaDivida\n",
    "    \n",
    "    FCB.append(FCB_)"
   ]
  },
  {
   "cell_type": "markdown",
   "metadata": {},
   "source": [
    "### Fluxo de Caixa dos Acionistas\n",
    "\n",
    "$FC(S) = Dividendos \\; + \\; Recompra \\; de \\; Ações \\; - \\; Novas \\; Emissões \\; de \\; Ações$"
   ]
  },
  {
   "cell_type": "code",
   "execution_count": null,
   "metadata": {},
   "outputs": [],
   "source": [
    "FCS = []\n",
    "\n",
    "for i in years:\n",
    "    dividendos = - getValue(DFC, 'Dividendos Pagos', i)\n",
    "    aumentoLiqCapital = - getValue(DFC, 'Aumento Líquido de Capital', i)\n",
    "    \n",
    "    FCS_ = dividendos - aumentoLiqCapital\n",
    "    \n",
    "    FCS.append(FCS_)"
   ]
  },
  {
   "cell_type": "code",
   "execution_count": null,
   "metadata": {},
   "outputs": [],
   "source": [
    "fluxoCaixa = pd.DataFrame()\n",
    "\n",
    "fluxoCaixa[\"Anos\"] = years\n",
    "fluxoCaixa[\"FC(A)\"] = FCA\n",
    "fluxoCaixa[\"FC(B)\"] = FCB\n",
    "fluxoCaixa[\"FC(S)\"] = FCS\n",
    "fluxoCaixa[\"Check\"] = fluxoCaixa[\"FC(A)\"] == (fluxoCaixa[\"FC(B)\"] + fluxoCaixa[\"FC(S)\"])\n",
    "\n",
    "fluxoCaixa"
   ]
  },
  {
   "cell_type": "code",
   "execution_count": null,
   "metadata": {},
   "outputs": [],
   "source": []
  }
 ],
 "metadata": {
  "kernelspec": {
   "display_name": "Python 3",
   "language": "python",
   "name": "python3"
  },
  "language_info": {
   "codemirror_mode": {
    "name": "ipython",
    "version": 3
   },
   "file_extension": ".py",
   "mimetype": "text/x-python",
   "name": "python",
   "nbconvert_exporter": "python",
   "pygments_lexer": "ipython3",
   "version": "3.7.4"
  }
 },
 "nbformat": 4,
 "nbformat_minor": 4
}
