{
 "cells": [
  {
   "cell_type": "code",
   "execution_count": 1,
   "metadata": {},
   "outputs": [],
   "source": [
    "import pandas as pd\n",
    "\n",
    "excel_file = pd.ExcelFile(\"DFs-MRV-Limpo.xlsx\", engine=\"openpyxl\")\n",
    "\n",
    "BP = pd.read_excel(excel_file, \"BP\")\n",
    "DFC = pd.read_excel(excel_file, \"DFC\")\n",
    "DRE = pd.read_excel(excel_file, \"DRE\")"
   ]
  },
  {
   "cell_type": "code",
   "execution_count": 2,
   "metadata": {},
   "outputs": [
    {
     "data": {
      "text/html": [
       "<div>\n",
       "<style scoped>\n",
       "    .dataframe tbody tr th:only-of-type {\n",
       "        vertical-align: middle;\n",
       "    }\n",
       "\n",
       "    .dataframe tbody tr th {\n",
       "        vertical-align: top;\n",
       "    }\n",
       "\n",
       "    .dataframe thead th {\n",
       "        text-align: right;\n",
       "    }\n",
       "</style>\n",
       "<table border=\"1\" class=\"dataframe\">\n",
       "  <thead>\n",
       "    <tr style=\"text-align: right;\">\n",
       "      <th></th>\n",
       "      <th>MRV ON (R$ em milhares)</th>\n",
       "      <th>2016</th>\n",
       "      <th>2017</th>\n",
       "      <th>2018</th>\n",
       "      <th>2019</th>\n",
       "      <th>2020</th>\n",
       "    </tr>\n",
       "  </thead>\n",
       "  <tbody>\n",
       "    <tr>\n",
       "      <th>0</th>\n",
       "      <td>Ativo Total</td>\n",
       "      <td>12327013</td>\n",
       "      <td>14558500</td>\n",
       "      <td>13636891</td>\n",
       "      <td>14686323</td>\n",
       "      <td>18062015</td>\n",
       "    </tr>\n",
       "    <tr>\n",
       "      <th>1</th>\n",
       "      <td>Ativo Circulante</td>\n",
       "      <td>7120084</td>\n",
       "      <td>8315552</td>\n",
       "      <td>7861258</td>\n",
       "      <td>7801154</td>\n",
       "      <td>8564095</td>\n",
       "    </tr>\n",
       "    <tr>\n",
       "      <th>2</th>\n",
       "      <td>Caixa e Equivalentes</td>\n",
       "      <td>1763552</td>\n",
       "      <td>713123</td>\n",
       "      <td>794852</td>\n",
       "      <td>674919</td>\n",
       "      <td>1080705</td>\n",
       "    </tr>\n",
       "  </tbody>\n",
       "</table>\n",
       "</div>"
      ],
      "text/plain": [
       "  MRV ON (R$ em milhares)      2016      2017      2018      2019      2020\n",
       "0             Ativo Total  12327013  14558500  13636891  14686323  18062015\n",
       "1        Ativo Circulante   7120084   8315552   7861258   7801154   8564095\n",
       "2    Caixa e Equivalentes   1763552    713123    794852    674919   1080705"
      ]
     },
     "execution_count": 2,
     "metadata": {},
     "output_type": "execute_result"
    }
   ],
   "source": [
    "BP.dropna(how='all', axis='columns', inplace=True)\n",
    "BP.head(3)"
   ]
  },
  {
   "cell_type": "code",
   "execution_count": 3,
   "metadata": {},
   "outputs": [
    {
     "data": {
      "text/html": [
       "<div>\n",
       "<style scoped>\n",
       "    .dataframe tbody tr th:only-of-type {\n",
       "        vertical-align: middle;\n",
       "    }\n",
       "\n",
       "    .dataframe tbody tr th {\n",
       "        vertical-align: top;\n",
       "    }\n",
       "\n",
       "    .dataframe thead th {\n",
       "        text-align: right;\n",
       "    }\n",
       "</style>\n",
       "<table border=\"1\" class=\"dataframe\">\n",
       "  <thead>\n",
       "    <tr style=\"text-align: right;\">\n",
       "      <th></th>\n",
       "      <th>MRV ON (R$ em milhares)</th>\n",
       "      <th>2017</th>\n",
       "      <th>2018</th>\n",
       "      <th>2019</th>\n",
       "      <th>2020</th>\n",
       "    </tr>\n",
       "  </thead>\n",
       "  <tbody>\n",
       "    <tr>\n",
       "      <th>0</th>\n",
       "      <td>(+) Caixa Gerado por Operações</td>\n",
       "      <td>332400</td>\n",
       "      <td>625606</td>\n",
       "      <td>-98245</td>\n",
       "      <td>689934</td>\n",
       "    </tr>\n",
       "    <tr>\n",
       "      <th>1</th>\n",
       "      <td>Caixa Gerado nas Operações</td>\n",
       "      <td>1053428</td>\n",
       "      <td>1275794</td>\n",
       "      <td>1282107</td>\n",
       "      <td>1237169</td>\n",
       "    </tr>\n",
       "    <tr>\n",
       "      <th>2</th>\n",
       "      <td>Lucro Líquido</td>\n",
       "      <td>700024</td>\n",
       "      <td>758137</td>\n",
       "      <td>747876</td>\n",
       "      <td>620992</td>\n",
       "    </tr>\n",
       "  </tbody>\n",
       "</table>\n",
       "</div>"
      ],
      "text/plain": [
       "          MRV ON (R$ em milhares)     2017     2018     2019     2020\n",
       "0  (+) Caixa Gerado por Operações   332400   625606   -98245   689934\n",
       "1      Caixa Gerado nas Operações  1053428  1275794  1282107  1237169\n",
       "2                   Lucro Líquido   700024   758137   747876   620992"
      ]
     },
     "execution_count": 3,
     "metadata": {},
     "output_type": "execute_result"
    }
   ],
   "source": [
    "DFC.dropna(how='all', axis='columns', inplace=True)\n",
    "DFC.head(3)"
   ]
  },
  {
   "cell_type": "code",
   "execution_count": 4,
   "metadata": {},
   "outputs": [
    {
     "data": {
      "text/html": [
       "<div>\n",
       "<style scoped>\n",
       "    .dataframe tbody tr th:only-of-type {\n",
       "        vertical-align: middle;\n",
       "    }\n",
       "\n",
       "    .dataframe tbody tr th {\n",
       "        vertical-align: top;\n",
       "    }\n",
       "\n",
       "    .dataframe thead th {\n",
       "        text-align: right;\n",
       "    }\n",
       "</style>\n",
       "<table border=\"1\" class=\"dataframe\">\n",
       "  <thead>\n",
       "    <tr style=\"text-align: right;\">\n",
       "      <th></th>\n",
       "      <th>MRV ON (R$ em milhares)</th>\n",
       "      <th>2017</th>\n",
       "      <th>2018</th>\n",
       "      <th>2019</th>\n",
       "      <th>2020</th>\n",
       "    </tr>\n",
       "  </thead>\n",
       "  <tbody>\n",
       "    <tr>\n",
       "      <th>0</th>\n",
       "      <td>(+) Receita Líquida Operacional</td>\n",
       "      <td>4759888</td>\n",
       "      <td>5418995</td>\n",
       "      <td>6055722</td>\n",
       "      <td>6646359</td>\n",
       "    </tr>\n",
       "    <tr>\n",
       "      <th>1</th>\n",
       "      <td>(-) Custo dos Produtos Vendidos</td>\n",
       "      <td>3147749</td>\n",
       "      <td>3620489</td>\n",
       "      <td>4213455</td>\n",
       "      <td>4772021</td>\n",
       "    </tr>\n",
       "    <tr>\n",
       "      <th>2</th>\n",
       "      <td>(=) Lucro Bruto</td>\n",
       "      <td>1612139</td>\n",
       "      <td>1798506</td>\n",
       "      <td>1842267</td>\n",
       "      <td>1874338</td>\n",
       "    </tr>\n",
       "  </tbody>\n",
       "</table>\n",
       "</div>"
      ],
      "text/plain": [
       "           MRV ON (R$ em milhares)     2017     2018     2019     2020\n",
       "0  (+) Receita Líquida Operacional  4759888  5418995  6055722  6646359\n",
       "1  (-) Custo dos Produtos Vendidos  3147749  3620489  4213455  4772021\n",
       "2                  (=) Lucro Bruto  1612139  1798506  1842267  1874338"
      ]
     },
     "execution_count": 4,
     "metadata": {},
     "output_type": "execute_result"
    }
   ],
   "source": [
    "DRE.dropna(how='all', axis='columns', inplace=True)\n",
    "DRE.head(3)"
   ]
  },
  {
   "cell_type": "code",
   "execution_count": 5,
   "metadata": {},
   "outputs": [],
   "source": [
    "def getValue(df, nome_coluna_principal, ano, coluna_principal=\"MRV ON (R$ em milhares)\"):\n",
    "    return df[df[coluna_principal] == nome_coluna_principal][ano].values[0]"
   ]
  },
  {
   "cell_type": "code",
   "execution_count": 6,
   "metadata": {},
   "outputs": [
    {
     "data": {
      "text/plain": [
       "13636891"
      ]
     },
     "execution_count": 6,
     "metadata": {},
     "output_type": "execute_result"
    }
   ],
   "source": [
    "getValue(BP, 'Ativo Total', 2018)"
   ]
  },
  {
   "cell_type": "code",
   "execution_count": 7,
   "metadata": {},
   "outputs": [
    {
     "data": {
      "text/plain": [
       "1842267"
      ]
     },
     "execution_count": 7,
     "metadata": {},
     "output_type": "execute_result"
    }
   ],
   "source": [
    "getValue(DRE, '(=) Lucro Bruto', 2019)"
   ]
  },
  {
   "cell_type": "code",
   "execution_count": 8,
   "metadata": {},
   "outputs": [
    {
     "data": {
      "text/plain": [
       "758137"
      ]
     },
     "execution_count": 8,
     "metadata": {},
     "output_type": "execute_result"
    }
   ],
   "source": [
    "getValue(DFC, 'Lucro Líquido', 2018)"
   ]
  }
 ],
 "metadata": {
  "kernelspec": {
   "display_name": "Python 3",
   "language": "python",
   "name": "python3"
  },
  "language_info": {
   "codemirror_mode": {
    "name": "ipython",
    "version": 3
   },
   "file_extension": ".py",
   "mimetype": "text/x-python",
   "name": "python",
   "nbconvert_exporter": "python",
   "pygments_lexer": "ipython3",
   "version": "3.8.7"
  }
 },
 "nbformat": 4,
 "nbformat_minor": 4
}
